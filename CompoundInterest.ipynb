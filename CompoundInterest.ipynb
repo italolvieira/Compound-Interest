{
 "cells": [
  {
   "cell_type": "markdown",
   "metadata": {},
   "source": [
    "Compound interest is a way to leverage your investments. To know the final amount, you need to:\n",
    "\n",
    "1. The invested capital (C)\n",
    "2. The interest rate charged on the capital, we will use the annual rate (i)\n",
    "3. The time, in months, that the capital will be invested (t)\n",
    "4. Interest on income (J), calculated by subtracting the final value of the invested capital\n",
    "5. Final amount after the end of the investment: M=C*(1+i)^t"
   ]
  },
  {
   "cell_type": "code",
   "execution_count": null,
   "metadata": {},
   "outputs": [],
   "source": [
    "from math import pow"
   ]
  },
  {
   "cell_type": "code",
   "execution_count": 28,
   "metadata": {},
   "outputs": [],
   "source": [
    "def compound(capital, interest, time):\n",
    "    return capital*pow((1+interest),time)\n",
    "\n",
    "def simple(capital, interest, time):\n",
    "    return capital*interest*time"
   ]
  },
  {
   "cell_type": "code",
   "execution_count": null,
   "metadata": {},
   "outputs": [],
   "source": [
    "capital = float(input(\"What is the investment capital?\"))\n",
    "interest = float(input(\"What is the annual interest in percentage (%)?\"))\n",
    "time = int(input(\"How many months will the investment last?\"))\n",
    "\n",
    "interest = interest / 100  #5% = 5/100\n",
    "time = time / 12\n",
    "\n",
    "compound_final_value = compound(capital, interest, time)\n",
    "print(f\"The final amount will be: {compound_final_value:.02f} $\")\n",
    "print(f\"The interest income was: {(compound_final_value - capital):.02f} $\")"
   ]
  },
  {
   "cell_type": "code",
   "execution_count": null,
   "metadata": {},
   "outputs": [],
   "source": [
    "simple_final_value = simple(capital, interest, time)\n",
    "print(f\"The final amount will be: {(simple_final_value + capital):.02f} $\")"
   ]
  }
 ],
 "metadata": {
  "kernelspec": {
   "display_name": "Python 3",
   "language": "python",
   "name": "python3"
  },
  "language_info": {
   "codemirror_mode": {
    "name": "ipython",
    "version": 3
   },
   "file_extension": ".py",
   "mimetype": "text/x-python",
   "name": "python",
   "nbconvert_exporter": "python",
   "pygments_lexer": "ipython3",
   "version": "3.12.0"
  }
 },
 "nbformat": 4,
 "nbformat_minor": 2
}
